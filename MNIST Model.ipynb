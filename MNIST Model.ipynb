{
 "cells": [
  {
   "cell_type": "code",
   "execution_count": 1,
   "id": "dc23cd1e",
   "metadata": {},
   "outputs": [],
   "source": [
    "# personal problems\n",
    "%config Completer.use_jedi = False"
   ]
  },
  {
   "cell_type": "code",
   "execution_count": 2,
   "id": "8fe06e5b",
   "metadata": {},
   "outputs": [
    {
     "name": "stderr",
     "output_type": "stream",
     "text": [
      "Using TensorFlow backend.\n",
      "C:\\Users\\danya\\anaconda3\\lib\\site-packages\\tensorflow\\python\\framework\\dtypes.py:526: FutureWarning: Passing (type, 1) or '1type' as a synonym of type is deprecated; in a future version of numpy, it will be understood as (type, (1,)) / '(1,)type'.\n",
      "  _np_qint8 = np.dtype([(\"qint8\", np.int8, 1)])\n",
      "C:\\Users\\danya\\anaconda3\\lib\\site-packages\\tensorflow\\python\\framework\\dtypes.py:527: FutureWarning: Passing (type, 1) or '1type' as a synonym of type is deprecated; in a future version of numpy, it will be understood as (type, (1,)) / '(1,)type'.\n",
      "  _np_quint8 = np.dtype([(\"quint8\", np.uint8, 1)])\n",
      "C:\\Users\\danya\\anaconda3\\lib\\site-packages\\tensorflow\\python\\framework\\dtypes.py:528: FutureWarning: Passing (type, 1) or '1type' as a synonym of type is deprecated; in a future version of numpy, it will be understood as (type, (1,)) / '(1,)type'.\n",
      "  _np_qint16 = np.dtype([(\"qint16\", np.int16, 1)])\n",
      "C:\\Users\\danya\\anaconda3\\lib\\site-packages\\tensorflow\\python\\framework\\dtypes.py:529: FutureWarning: Passing (type, 1) or '1type' as a synonym of type is deprecated; in a future version of numpy, it will be understood as (type, (1,)) / '(1,)type'.\n",
      "  _np_quint16 = np.dtype([(\"quint16\", np.uint16, 1)])\n",
      "C:\\Users\\danya\\anaconda3\\lib\\site-packages\\tensorflow\\python\\framework\\dtypes.py:530: FutureWarning: Passing (type, 1) or '1type' as a synonym of type is deprecated; in a future version of numpy, it will be understood as (type, (1,)) / '(1,)type'.\n",
      "  _np_qint32 = np.dtype([(\"qint32\", np.int32, 1)])\n",
      "C:\\Users\\danya\\anaconda3\\lib\\site-packages\\tensorflow\\python\\framework\\dtypes.py:535: FutureWarning: Passing (type, 1) or '1type' as a synonym of type is deprecated; in a future version of numpy, it will be understood as (type, (1,)) / '(1,)type'.\n",
      "  np_resource = np.dtype([(\"resource\", np.ubyte, 1)])\n"
     ]
    }
   ],
   "source": [
    "import keras\n",
    "import numpy as np\n",
    "from sklearn.utils import shuffle\n",
    "from matplotlib import pyplot as plt\n",
    "from keras.utils import to_categorical"
   ]
  },
  {
   "cell_type": "markdown",
   "id": "394ef17c",
   "metadata": {},
   "source": [
    "## load dataset"
   ]
  },
  {
   "cell_type": "code",
   "execution_count": 3,
   "id": "631b6ddb",
   "metadata": {},
   "outputs": [],
   "source": [
    "(x_train, y_train), (x_test, y_test) = keras.datasets.mnist.load_data()"
   ]
  },
  {
   "cell_type": "code",
   "execution_count": 4,
   "id": "7071653c",
   "metadata": {
    "scrolled": false
   },
   "outputs": [
    {
     "name": "stdout",
     "output_type": "stream",
     "text": [
      "(60000, 28, 28) (60000,)\n",
      "(10000, 28, 28) (10000,)\n",
      "255 255\n",
      "5\n"
     ]
    }
   ],
   "source": [
    "print(x_train.shape, y_train.shape)\n",
    "print(x_test.shape, y_test.shape)\n",
    "print(x_train[0].max(), x_test[0].max())\n",
    "print(y_train[0])"
   ]
  },
  {
   "cell_type": "markdown",
   "id": "e611e1aa",
   "metadata": {},
   "source": [
    "## visualize"
   ]
  },
  {
   "cell_type": "code",
   "execution_count": 5,
   "id": "474511b1",
   "metadata": {
    "scrolled": true
   },
   "outputs": [
    {
     "data": {
      "image/png": "[encoded data removed]",
      "text/plain": [
       "<Figure size 432x288 with 8 Axes>"
      ]
     },
     "metadata": {
      "needs_background": "light"
     },
     "output_type": "display_data"
    }
   ],
   "source": [
    "for i in range(3):\n",
    "    for j in range(3):\n",
    "        k = i * 3 + j + 1\n",
    "        plt.subplot(3, 3, k)\n",
    "        plt.imshow(x_train[k])\n",
    "        plt.title(y_train[k])\n",
    "        plt.tight_layout()\n",
    "        plt.axis(False)\n",
    "plt.show()"
   ]
  },
  {
   "cell_type": "markdown",
   "id": "dfcab30f",
   "metadata": {},
   "source": [
    "## Add bg images"
   ]
  },
  {
   "cell_type": "code",
   "execution_count": 6,
   "id": "878a2216",
   "metadata": {
    "scrolled": false
   },
   "outputs": [
    {
     "data": {
      "text/plain": [
       "(-0.5, 27.5, 27.5, -0.5)"
      ]
     },
     "execution_count": 6,
     "metadata": {},
     "output_type": "execute_result"
    },
    {
     "data": {
      "image/png": "[encoded data removed]",
      "text/plain": [
       "<Figure size 432x288 with 1 Axes>"
      ]
     },
     "metadata": {
      "needs_background": "light"
     },
     "output_type": "display_data"
    }
   ],
   "source": [
    "def get_noise(p=0.7):\n",
    "    rand = np.random.rand(28, 28)\n",
    "    return np.where(rand > p, rand, 0) * 255\n",
    "plt.imshow(get_noise())\n",
    "plt.axis(False)"
   ]
  },
  {
   "cell_type": "code",
   "execution_count": 7,
   "id": "797891fc",
   "metadata": {},
   "outputs": [],
   "source": [
    "x_train_noise = np.array([get_noise() for i in range(10000)])\n",
    "x_test_noise = np.array([get_noise() for i in range(5000)])"
   ]
  },
  {
   "cell_type": "code",
   "execution_count": 8,
   "id": "4b6c1871",
   "metadata": {
    "scrolled": true
   },
   "outputs": [
    {
     "name": "stdout",
     "output_type": "stream",
     "text": [
      "(10000, 28, 28) (5000, 28, 28)\n"
     ]
    }
   ],
   "source": [
    "print(x_train_noise.shape, x_test_noise.shape)"
   ]
  },
  {
   "cell_type": "code",
   "execution_count": 9,
   "id": "5797ddb3",
   "metadata": {},
   "outputs": [],
   "source": [
    "x_train = np.concatenate((x_train, x_train_noise), 0)\n",
    "x_test = np.concatenate((x_test, x_test_noise))"
   ]
  },
  {
   "cell_type": "code",
   "execution_count": 10,
   "id": "f92f34cd",
   "metadata": {},
   "outputs": [],
   "source": [
    "y_train = np.concatenate((y_train, 10*np.ones((10000,))), 0)\n",
    "y_test = np.concatenate((y_test, 10*np.ones((5000,))), 0)"
   ]
  },
  {
   "cell_type": "code",
   "execution_count": 11,
   "id": "f46ced19",
   "metadata": {},
   "outputs": [
    {
     "name": "stdout",
     "output_type": "stream",
     "text": [
      "(70000, 28, 28) (70000,)\n",
      "(15000, 28, 28) (15000,)\n"
     ]
    }
   ],
   "source": [
    "print(x_train.shape, y_train.shape)\n",
    "print(x_test.shape, y_test.shape)"
   ]
  },
  {
   "cell_type": "code",
   "execution_count": 12,
   "id": "8f4e4600",
   "metadata": {},
   "outputs": [],
   "source": [
    "x_train, y_train = shuffle(x_train, y_train)\n",
    "x_test, y_test = shuffle(x_test, y_test)"
   ]
  },
  {
   "cell_type": "markdown",
   "id": "08db434a",
   "metadata": {},
   "source": [
    "## Preprocess"
   ]
  },
  {
   "cell_type": "code",
   "execution_count": 13,
   "id": "371614d7",
   "metadata": {},
   "outputs": [],
   "source": [
    "y_train = to_categorical(y_train.astype('uint8'))\n",
    "y_test = to_categorical(y_test.astype('uint8'))\n",
    "x_train = x_train / 255.\n",
    "x_test = x_test / 255.\n",
    "x_train.shape += (1,)\n",
    "x_test.shape += (1,)"
   ]
  },
  {
   "cell_type": "code",
   "execution_count": 14,
   "id": "a4f87ab6",
   "metadata": {
    "scrolled": true
   },
   "outputs": [
    {
     "name": "stdout",
     "output_type": "stream",
     "text": [
      "(70000, 28, 28, 1) (70000, 11)\n",
      "(15000, 28, 28, 1) (15000, 11)\n",
      "1.0 0.996078431372549\n",
      "[0. 0. 0. 0. 0. 0. 0. 0. 0. 1. 0.]\n",
      "\n",
      "1.0\n",
      "[0. 0. 0. 0. 0. 1. 0. 0. 0. 0. 0.]\n"
     ]
    }
   ],
   "source": [
    "print(x_train.shape, y_train.shape)\n",
    "print(x_test.shape, y_test.shape)\n",
    "print(x_train[0].max(), x_test[0].max())\n",
    "print(y_train[0])\n",
    "print()\n",
    "print(x_train.max())\n",
    "print(y_test[0])"
   ]
  },
  {
   "cell_type": "markdown",
   "id": "7bc1864e",
   "metadata": {},
   "source": [
    "## Model"
   ]
  },
  {
   "cell_type": "code",
   "execution_count": 15,
   "id": "20ccea3e",
   "metadata": {},
   "outputs": [
    {
     "name": "stdout",
     "output_type": "stream",
     "text": [
      "WARNING:tensorflow:From C:\\Users\\danya\\anaconda3\\lib\\site-packages\\tensorflow\\python\\ops\\resource_variable_ops.py:435: colocate_with (from tensorflow.python.framework.ops) is deprecated and will be removed in a future version.\n",
      "Instructions for updating:\n",
      "Colocations handled automatically by placer.\n"
     ]
    }
   ],
   "source": [
    "model = keras.Sequential(name='MNIST Model')\n",
    "model.add(keras.layers.Conv2D(32, 3, padding='same', \n",
    "                              input_shape=(28, 28, 1), \n",
    "                              activation='relu', name='conv2d_1'))\n",
    "model.add(keras.layers.MaxPool2D(2, name='max_pool1'))\n",
    "model.add(keras.layers.Conv2D(32, 3, padding='same', \n",
    "                              activation='relu', name='conv2d_2'))\n",
    "model.add(keras.layers.MaxPool2D(2, name='max_pool2'))\n",
    "model.add(keras.layers.Flatten())\n",
    "model.add(keras.layers.BatchNormalization())\n",
    "model.add(keras.layers.Dense(100, activation='relu', name='fc_1'))\n",
    "model.add(keras.layers.Dense(11, activation='softmax', name='fc_2'))"
   ]
  },
  {
   "cell_type": "code",
   "execution_count": 16,
   "id": "b2cf9f12",
   "metadata": {},
   "outputs": [],
   "source": [
    "model.compile(optimizer='adam', loss='categorical_crossentropy', \n",
    "              metrics=['accuracy'])"
   ]
  },
  {
   "cell_type": "markdown",
   "id": "ce3785e1",
   "metadata": {},
   "source": [
    "## Train"
   ]
  },
  {
   "cell_type": "code",
   "execution_count": 17,
   "id": "f22c702b",
   "metadata": {},
   "outputs": [
    {
     "name": "stdout",
     "output_type": "stream",
     "text": [
      "WARNING:tensorflow:From C:\\Users\\danya\\anaconda3\\lib\\site-packages\\tensorflow\\python\\ops\\math_ops.py:3066: to_int32 (from tensorflow.python.ops.math_ops) is deprecated and will be removed in a future version.\n",
      "Instructions for updating:\n",
      "Use tf.cast instead.\n",
      "Train on 70000 samples, validate on 14000 samples\n",
      "Epoch 1/5\n",
      "70000/70000 [==============================] - 38s 544us/step - loss: 0.0903 - accuracy: 0.9725 - val_loss: 0.0911 - val_accuracy: 0.9701: 0. - ETA: 34s - loss: 0. - ETA: 31s - loss: 0.2075 - accuracy: 0. - ETA: - ETA: 28s - loss: 0.1727 - accuracy: - ETA: 27s - loss: 0.1679 - accuracy:  - ETA: 27s - loss: 0.1653 - accuracy: 0. - ETA: 26s - loss: 0.1654 - accuracy:  - ETA: 26s - loss: 0.1619 - accuracy: 0.95 - ETA: 26s - loss: 0.1611 - ac - ETA: 25s - loss: 0.1541 - accuracy: - ETA: 24s - loss: 0.1512 - accurac - ETA: 24s - loss: 0.1473 - accuracy: 0.954 - ETA: 24s - loss: 0.1470 - accuracy: 0 - ETA: 23s - loss: 0.1444 - accuracy: 0. - ETA: 23s - loss: 0.1424 - accuracy: 0.9 - ETA: 23s - loss: 0.1415 -  - ETA: 22s - loss: 0.1375 - accuracy: 0.9 - ETA: 21s - loss: 0.1369 - accuracy: 0. - - ETA: 19s - loss: 0.1259 - accuracy - ETA: 18s - loss: 0.1240 - accuracy: 0.9 - ETA: 18s - loss: 0.1234 - accuracy: 0. - ETA: 17s - loss: 0.1227 - accuracy: 0.9 - ETA: 17s - loss: 0.1219 - accuracy - ETA: 17s - loss: 0 - ETA: 15s - loss: 0.1153 - accurac - ETA: 15s - loss: 0.1143 - accuracy: 0. - ETA: 15s - loss: 0.1137 - accur - ETA: 11s - loss: 0.1073 - accura - ETA: 10s - loss: 0.1060 - accuracy: 0.967 - ETA: 10s - los - ETA: 4s - loss: 0.0959 - accuracy:  - ETA: 3s - loss: 0.0956 - accuracy:  - ETA: 3s - loss: 0.0952 - accuracy: 0.97 - ETA: 3s - loss: 0.0951 - accuracy: 0.97 - ETA: 3s - loss: 0.095 - ETA: 2s - loss: - ETA: 2s - l - ETA: 1s - loss: 0.0921 - accu - ETA: 1s\n",
      "Epoch 2/5\n",
      "70000/70000 [==============================] - 37s 532us/step - loss: 0.0410 - accuracy: 0.9875 - val_loss: 0.0310 - val_accuracy: 0.9900: 0.0426 - accuracy - ETA: 33s - loss: 0.040 - ETA: 32s - loss: 0. - ETA: 30s - loss: 0.0452 - ETA: 29s - loss: 0.0433 -  - ETA: 28s - ETA: 23s - loss: 0.0427 - a - ETA: 22s - loss: 0.0435 - accurac - ETA: 22s - loss: 0.0421 - accuracy: 0.9 - ETA: 21s - loss: 0.0425 - accuracy: 0 - ETA: 21s - loss: 0.0427 - accuracy: 0.98 - ETA: 21s - loss: 0.0427 - accuracy: 0.9 - ETA: 21s - loss: 0.04 - ETA: 20s - loss: 0.042 - ETA: 18s - loss: 0.0418 - acc - ETA: 18s - loss: 0.0408 -  - ETA: 1 - ETA: 14s - loss: - ETA: 13s - loss: 0.0417 - accuracy:  - ETA: 5s - l - ETA: 3s - loss: 0.0408 - accuracy - ETA: 3s - loss: 0.0409 - accu - ETA: 3s - loss: 0.0410  -\n",
      "Epoch 3/5\n",
      "70000/70000 [==============================] - 38s 537us/step - loss: 0.0317 - accuracy: 0.9905 - val_loss: 0.0401 - val_accuracy: 0.988433s - loss:  - ETA: 32s - loss: 0.04 - ETA: 31s - loss: 0.0391 - accuracy: 0.9 - ETA: 30s - loss: 0.0376 - accuracy: 0. - ETA: 30s - loss: 0.0373 - accuracy - ETA: 30s - loss: 0.0349 - accuracy: 0.9 - ETA: 30s - loss: 0.0350 - accuracy: 0.989 - ETA: 29s - loss: 0.0346 - - ETA: 28s - loss: 0.0323 - accuracy:  - ETA: 28s - loss: 0.0322 - a - ETA: 27s - loss: 0.0315 -  - ETA: 24s - loss: 0.0283 - accuracy: 0.99 - ETA: 24s - - ETA:  - ETA: 20s - loss: 0.0268 - acc - ETA: 19s - loss: 0.0274 - accuracy: 0.991 - ETA: 19s - loss: 0.0274 - acc - ETA: 18s - loss: 0.0272 - accura - ETA: 18s - loss: 0.0274  - ETA: 17s - loss: 0.0 - ETA: 15s - loss: 0.0281 - accuracy: 0.991 - ETA: 15s - los - ETA: 14s - loss: 0.0282 - accuracy: - ETA: 13s - loss: 0.0285 - accur - ETA: 12s - loss: 0.0291 - accuracy: 0.991 - ETA: 12s - loss: 0.0292 - accuracy: 0. - ETA: 12s - loss: 0.0292 - accuracy: 0.991 - ETA: 12s - loss: 0.0291 - accuracy: 0 - ETA: 12s - los - ETA: 7s - loss: 0 - ETA: 6s - loss: 0.0310 - accuracy - ETA: 6s - loss: 0.0313 -  - ETA: 6s - loss: 0.0315 - accuracy: 0.99 - ETA: 6s - loss: 0.0314  - ETA: 5s - loss: 0.031 - ETA: 4s - - ETA: 2s - ETA: 1s - loss: 0.0314 - accuracy\n",
      "Epoch 4/5\n",
      "70000/70000 [==============================] - 35s 502us/step - loss: 0.0247 - accuracy: 0.9922 - val_loss: 0.0272 - val_accuracy: 0.9922\n",
      "Epoch 5/5\n",
      "70000/70000 [==============================] - 37s 530us/step - loss: 0.0209 - accuracy: 0.9935 - val_loss: 0.0282 - val_accuracy: 0.9911\n"
     ]
    }
   ],
   "source": [
    "history = model.fit(x_train, y_train, validation_data=(x_test[1000:], y_test[1000:]), epochs=5)"
   ]
  },
  {
   "cell_type": "markdown",
   "id": "607c51b9",
   "metadata": {},
   "source": [
    "## Analysis"
   ]
  },
  {
   "cell_type": "code",
   "execution_count": 18,
   "id": "9d07c70d",
   "metadata": {},
   "outputs": [
    {
     "data": {
      "text/plain": [
       "{'val_loss': [0.09106729655599753,\n",
       "  0.03104689655974133,\n",
       "  0.040080704434833025,\n",
       "  0.027226394373801928,\n",
       "  0.02818636837773582],\n",
       " 'val_accuracy': [0.9701428413391113,\n",
       "  0.9900000095367432,\n",
       "  0.9884285926818848,\n",
       "  0.9922142624855042,\n",
       "  0.9910714030265808],\n",
       " 'loss': [0.09031166624747483,\n",
       "  0.04101412035949428,\n",
       "  0.03167119535978667,\n",
       "  0.024732405044783082,\n",
       "  0.020866827776509205],\n",
       " 'accuracy': [0.9724714, 0.9874714, 0.9905, 0.9921714, 0.9934857]}"
      ]
     },
     "execution_count": 18,
     "metadata": {},
     "output_type": "execute_result"
    }
   ],
   "source": [
    "history.history"
   ]
  },
  {
   "cell_type": "code",
   "execution_count": 19,
   "id": "ac15c947",
   "metadata": {},
   "outputs": [
    {
     "data": {
      "image/png": "[encoded data removed]",
      "text/plain": [
       "<Figure size 432x288 with 2 Axes>"
      ]
     },
     "metadata": {
      "needs_background": "light"
     },
     "output_type": "display_data"
    }
   ],
   "source": [
    "# plot accuracy\n",
    "plt.subplot(1, 2, 1)\n",
    "plt.title('Accuracy')\n",
    "plt.plot(history.history['accuracy'])\n",
    "plt.plot(history.history['val_accuracy'])\n",
    "plt.legend(['Trian', 'Test'])\n",
    "\n",
    "# plot loss\n",
    "plt.subplot(1, 2, 2)\n",
    "plt.title('Loss')\n",
    "plt.plot(history.history['loss'])\n",
    "plt.plot(history.history['val_loss'])\n",
    "plt.legend(['Trian', 'Test'])\n",
    "\n",
    "plt.tight_layout()\n",
    "plt.show()"
   ]
  },
  {
   "cell_type": "markdown",
   "id": "e0c98a6e",
   "metadata": {},
   "source": [
    "### Make no sense to perform analysis actually"
   ]
  },
  {
   "cell_type": "markdown",
   "id": "f98374f0",
   "metadata": {},
   "source": [
    "## Validation"
   ]
  },
  {
   "cell_type": "code",
   "execution_count": 20,
   "id": "5b680e7a",
   "metadata": {},
   "outputs": [
    {
     "name": "stdout",
     "output_type": "stream",
     "text": [
      "1000/1000 [==============================] - 0s 191us/step\n"
     ]
    },
    {
     "data": {
      "text/plain": [
       "[0.02235664910171181, 0.9940000176429749]"
      ]
     },
     "execution_count": 20,
     "metadata": {},
     "output_type": "execute_result"
    }
   ],
   "source": [
    "model.evaluate(x_test[:1000], y_test[:1000])"
   ]
  },
  {
   "cell_type": "markdown",
   "id": "bd81ff7d",
   "metadata": {},
   "source": [
    "# Conclusion\n",
    "## 99.4%"
   ]
  },
  {
   "cell_type": "markdown",
   "id": "a2140ebc",
   "metadata": {},
   "source": [
    "## Save model\n",
    "yeah, pickle isn't best way of doing it, but it's so much easier"
   ]
  },
  {
   "cell_type": "code",
   "execution_count": 21,
   "id": "4e180981",
   "metadata": {},
   "outputs": [],
   "source": [
    "# old way. Don't do it\n",
    "import pickle\n",
    "f = open('MNIST_model.pickle', 'wb')\n",
    "pickle.dump(model, f)\n",
    "f.close()"
   ]
  },
  {
   "cell_type": "code",
   "execution_count": 2,
   "id": "643b74a2",
   "metadata": {},
   "outputs": [],
   "source": [
    "model.save('MNIST_model.h5')"
   ]
  }
 ],
 "metadata": {
  "kernelspec": {
   "display_name": "Python 3",
   "language": "python",
   "name": "python3"
  },
  "language_info": {
   "codemirror_mode": {
    "name": "ipython",
    "version": 3
   },
   "file_extension": ".py",
   "mimetype": "text/x-python",
   "name": "python",
   "nbconvert_exporter": "python",
   "pygments_lexer": "ipython3",
   "version": "3.7.11"
  }
 },
 "nbformat": 4,
 "nbformat_minor": 5
}
